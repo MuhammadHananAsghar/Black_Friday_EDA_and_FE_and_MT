{
  "nbformat": 4,
  "nbformat_minor": 0,
  "metadata": {
    "colab": {
      "name": "Purchases Prediction.ipynb",
      "provenance": []
    },
    "kernelspec": {
      "name": "python3",
      "display_name": "Python 3"
    },
    "language_info": {
      "name": "python"
    },
    "accelerator": "GPU"
  },
  "cells": [
    {
      "cell_type": "code",
      "execution_count": 1,
      "metadata": {
        "colab": {
          "base_uri": "https://localhost:8080/"
        },
        "id": "rLv_oS_hxYDU",
        "outputId": "f3fe7fa0-7b97-41c1-957f-3d29a83cea05"
      },
      "outputs": [
        {
          "output_type": "stream",
          "name": "stdout",
          "text": [
            "Tue Mar  1 09:18:17 2022       \n",
            "+-----------------------------------------------------------------------------+\n",
            "| NVIDIA-SMI 460.32.03    Driver Version: 460.32.03    CUDA Version: 11.2     |\n",
            "|-------------------------------+----------------------+----------------------+\n",
            "| GPU  Name        Persistence-M| Bus-Id        Disp.A | Volatile Uncorr. ECC |\n",
            "| Fan  Temp  Perf  Pwr:Usage/Cap|         Memory-Usage | GPU-Util  Compute M. |\n",
            "|                               |                      |               MIG M. |\n",
            "|===============================+======================+======================|\n",
            "|   0  Tesla K80           Off  | 00000000:00:04.0 Off |                    0 |\n",
            "| N/A   38C    P8    27W / 149W |      0MiB / 11441MiB |      0%      Default |\n",
            "|                               |                      |                  N/A |\n",
            "+-------------------------------+----------------------+----------------------+\n",
            "                                                                               \n",
            "+-----------------------------------------------------------------------------+\n",
            "| Processes:                                                                  |\n",
            "|  GPU   GI   CI        PID   Type   Process name                  GPU Memory |\n",
            "|        ID   ID                                                   Usage      |\n",
            "|=============================================================================|\n",
            "|  No running processes found                                                 |\n",
            "+-----------------------------------------------------------------------------+\n"
          ]
        }
      ],
      "source": [
        "!nvidia-smi"
      ]
    },
    {
      "cell_type": "code",
      "source": [
        "!wget https://github.com/MuhammadHananAsghar/Black_Friday_EDA_and_FE_and_MT/blob/main/train_cleaned.csv"
      ],
      "metadata": {
        "colab": {
          "base_uri": "https://localhost:8080/"
        },
        "id": "slMOBWUMxdWH",
        "outputId": "064f17a8-93d9-4cc9-de9a-c99af9b7adb7"
      },
      "execution_count": 12,
      "outputs": [
        {
          "output_type": "stream",
          "name": "stdout",
          "text": [
            "--2022-03-01 09:31:32--  https://github.com/MuhammadHananAsghar/Black_Friday_EDA_and_FE_and_MT/blob/main/train_cleaned.csv\n",
            "Resolving github.com (github.com)... 140.82.112.4\n",
            "Connecting to github.com (github.com)|140.82.112.4|:443... connected.\n",
            "HTTP request sent, awaiting response... 200 OK\n",
            "Length: unspecified [text/html]\n",
            "Saving to: ‘train_cleaned.csv’\n",
            "\n",
            "train_cleaned.csv       [ <=>                ] 176.91K  --.-KB/s    in 0.1s    \n",
            "\n",
            "2022-03-01 09:31:33 (1.70 MB/s) - ‘train_cleaned.csv’ saved [181160]\n",
            "\n"
          ]
        }
      ]
    },
    {
      "cell_type": "code",
      "source": [
        "!wget https://github.com/MuhammadHananAsghar/Black_Friday_EDA_and_FE_and_MT/blob/main/test_cleaned.csv"
      ],
      "metadata": {
        "colab": {
          "base_uri": "https://localhost:8080/"
        },
        "id": "-JXsoL-ExiZa",
        "outputId": "8e8e8f2f-ab2d-4887-a856-cdf9612045ea"
      },
      "execution_count": 13,
      "outputs": [
        {
          "output_type": "stream",
          "name": "stdout",
          "text": [
            "--2022-03-01 09:31:34--  https://github.com/MuhammadHananAsghar/Black_Friday_EDA_and_FE_and_MT/blob/main/test_cleaned.csv\n",
            "Resolving github.com (github.com)... 140.82.112.3\n",
            "Connecting to github.com (github.com)|140.82.112.3|:443... connected.\n",
            "HTTP request sent, awaiting response... 200 OK\n",
            "Length: unspecified [text/html]\n",
            "Saving to: ‘test_cleaned.csv’\n",
            "\n",
            "test_cleaned.csv        [ <=>                ] 176.80K  --.-KB/s    in 0.1s    \n",
            "\n",
            "2022-03-01 09:31:34 (1.73 MB/s) - ‘test_cleaned.csv’ saved [181045]\n",
            "\n"
          ]
        }
      ]
    },
    {
      "cell_type": "markdown",
      "source": [
        "**Loading and Scaling**"
      ],
      "metadata": {
        "id": "JUyIc2h6xqZh"
      }
    },
    {
      "cell_type": "code",
      "source": [
        "import pandas as pd\n",
        "from sklearn.preprocessing import StandardScaler\n",
        "from sklearn.model_selection import train_test_split\n",
        "from sklearn.utils import shuffle"
      ],
      "metadata": {
        "id": "TBL8KEj0xlea"
      },
      "execution_count": 38,
      "outputs": []
    },
    {
      "cell_type": "code",
      "source": [
        "df_train = pd.read_csv(\"train_cleaned.csv\")"
      ],
      "metadata": {
        "id": "twB17fhRylrr"
      },
      "execution_count": 39,
      "outputs": []
    },
    {
      "cell_type": "code",
      "source": [
        "df_train.shape"
      ],
      "metadata": {
        "colab": {
          "base_uri": "https://localhost:8080/"
        },
        "id": "m5HJDqaz0lsA",
        "outputId": "333cfbcd-0254-44c0-8a96-a08ac56b59af"
      },
      "execution_count": 40,
      "outputs": [
        {
          "output_type": "execute_result",
          "data": {
            "text/plain": [
              "(550068, 11)"
            ]
          },
          "metadata": {},
          "execution_count": 40
        }
      ]
    },
    {
      "cell_type": "code",
      "source": [
        "df_train.head()"
      ],
      "metadata": {
        "colab": {
          "base_uri": "https://localhost:8080/",
          "height": 288
        },
        "id": "sf8GKMoN1jLX",
        "outputId": "1ac6a22c-adc8-4eb4-b7f2-39e9bb4d2604"
      },
      "execution_count": 41,
      "outputs": [
        {
          "output_type": "execute_result",
          "data": {
            "text/html": [
              "\n",
              "  <div id=\"df-8ca0bdf0-8a35-49b4-8c5d-fb48bce32585\">\n",
              "    <div class=\"colab-df-container\">\n",
              "      <div>\n",
              "<style scoped>\n",
              "    .dataframe tbody tr th:only-of-type {\n",
              "        vertical-align: middle;\n",
              "    }\n",
              "\n",
              "    .dataframe tbody tr th {\n",
              "        vertical-align: top;\n",
              "    }\n",
              "\n",
              "    .dataframe thead th {\n",
              "        text-align: right;\n",
              "    }\n",
              "</style>\n",
              "<table border=\"1\" class=\"dataframe\">\n",
              "  <thead>\n",
              "    <tr style=\"text-align: right;\">\n",
              "      <th></th>\n",
              "      <th>Unnamed: 0</th>\n",
              "      <th>Gender</th>\n",
              "      <th>Age</th>\n",
              "      <th>Occupation</th>\n",
              "      <th>City_Category</th>\n",
              "      <th>Stay_In_Current_City_Years</th>\n",
              "      <th>Marital_Status</th>\n",
              "      <th>Product_Category_1</th>\n",
              "      <th>Product_Category_2</th>\n",
              "      <th>Product_Category_3</th>\n",
              "      <th>Purchase</th>\n",
              "    </tr>\n",
              "  </thead>\n",
              "  <tbody>\n",
              "    <tr>\n",
              "      <th>0</th>\n",
              "      <td>0</td>\n",
              "      <td>1</td>\n",
              "      <td>1</td>\n",
              "      <td>10</td>\n",
              "      <td>1</td>\n",
              "      <td>2</td>\n",
              "      <td>0</td>\n",
              "      <td>3</td>\n",
              "      <td>8</td>\n",
              "      <td>16</td>\n",
              "      <td>8370.0</td>\n",
              "    </tr>\n",
              "    <tr>\n",
              "      <th>1</th>\n",
              "      <td>1</td>\n",
              "      <td>1</td>\n",
              "      <td>1</td>\n",
              "      <td>10</td>\n",
              "      <td>1</td>\n",
              "      <td>2</td>\n",
              "      <td>0</td>\n",
              "      <td>1</td>\n",
              "      <td>6</td>\n",
              "      <td>14</td>\n",
              "      <td>15200.0</td>\n",
              "    </tr>\n",
              "    <tr>\n",
              "      <th>2</th>\n",
              "      <td>2</td>\n",
              "      <td>1</td>\n",
              "      <td>1</td>\n",
              "      <td>10</td>\n",
              "      <td>1</td>\n",
              "      <td>2</td>\n",
              "      <td>0</td>\n",
              "      <td>12</td>\n",
              "      <td>8</td>\n",
              "      <td>16</td>\n",
              "      <td>1422.0</td>\n",
              "    </tr>\n",
              "    <tr>\n",
              "      <th>3</th>\n",
              "      <td>3</td>\n",
              "      <td>1</td>\n",
              "      <td>1</td>\n",
              "      <td>10</td>\n",
              "      <td>1</td>\n",
              "      <td>2</td>\n",
              "      <td>0</td>\n",
              "      <td>12</td>\n",
              "      <td>14</td>\n",
              "      <td>16</td>\n",
              "      <td>1057.0</td>\n",
              "    </tr>\n",
              "    <tr>\n",
              "      <th>4</th>\n",
              "      <td>4</td>\n",
              "      <td>1</td>\n",
              "      <td>7</td>\n",
              "      <td>16</td>\n",
              "      <td>3</td>\n",
              "      <td>4</td>\n",
              "      <td>0</td>\n",
              "      <td>8</td>\n",
              "      <td>8</td>\n",
              "      <td>16</td>\n",
              "      <td>7969.0</td>\n",
              "    </tr>\n",
              "  </tbody>\n",
              "</table>\n",
              "</div>\n",
              "      <button class=\"colab-df-convert\" onclick=\"convertToInteractive('df-8ca0bdf0-8a35-49b4-8c5d-fb48bce32585')\"\n",
              "              title=\"Convert this dataframe to an interactive table.\"\n",
              "              style=\"display:none;\">\n",
              "        \n",
              "  <svg xmlns=\"http://www.w3.org/2000/svg\" height=\"24px\"viewBox=\"0 0 24 24\"\n",
              "       width=\"24px\">\n",
              "    <path d=\"M0 0h24v24H0V0z\" fill=\"none\"/>\n",
              "    <path d=\"M18.56 5.44l.94 2.06.94-2.06 2.06-.94-2.06-.94-.94-2.06-.94 2.06-2.06.94zm-11 1L8.5 8.5l.94-2.06 2.06-.94-2.06-.94L8.5 2.5l-.94 2.06-2.06.94zm10 10l.94 2.06.94-2.06 2.06-.94-2.06-.94-.94-2.06-.94 2.06-2.06.94z\"/><path d=\"M17.41 7.96l-1.37-1.37c-.4-.4-.92-.59-1.43-.59-.52 0-1.04.2-1.43.59L10.3 9.45l-7.72 7.72c-.78.78-.78 2.05 0 2.83L4 21.41c.39.39.9.59 1.41.59.51 0 1.02-.2 1.41-.59l7.78-7.78 2.81-2.81c.8-.78.8-2.07 0-2.86zM5.41 20L4 18.59l7.72-7.72 1.47 1.35L5.41 20z\"/>\n",
              "  </svg>\n",
              "      </button>\n",
              "      \n",
              "  <style>\n",
              "    .colab-df-container {\n",
              "      display:flex;\n",
              "      flex-wrap:wrap;\n",
              "      gap: 12px;\n",
              "    }\n",
              "\n",
              "    .colab-df-convert {\n",
              "      background-color: #E8F0FE;\n",
              "      border: none;\n",
              "      border-radius: 50%;\n",
              "      cursor: pointer;\n",
              "      display: none;\n",
              "      fill: #1967D2;\n",
              "      height: 32px;\n",
              "      padding: 0 0 0 0;\n",
              "      width: 32px;\n",
              "    }\n",
              "\n",
              "    .colab-df-convert:hover {\n",
              "      background-color: #E2EBFA;\n",
              "      box-shadow: 0px 1px 2px rgba(60, 64, 67, 0.3), 0px 1px 3px 1px rgba(60, 64, 67, 0.15);\n",
              "      fill: #174EA6;\n",
              "    }\n",
              "\n",
              "    [theme=dark] .colab-df-convert {\n",
              "      background-color: #3B4455;\n",
              "      fill: #D2E3FC;\n",
              "    }\n",
              "\n",
              "    [theme=dark] .colab-df-convert:hover {\n",
              "      background-color: #434B5C;\n",
              "      box-shadow: 0px 1px 3px 1px rgba(0, 0, 0, 0.15);\n",
              "      filter: drop-shadow(0px 1px 2px rgba(0, 0, 0, 0.3));\n",
              "      fill: #FFFFFF;\n",
              "    }\n",
              "  </style>\n",
              "\n",
              "      <script>\n",
              "        const buttonEl =\n",
              "          document.querySelector('#df-8ca0bdf0-8a35-49b4-8c5d-fb48bce32585 button.colab-df-convert');\n",
              "        buttonEl.style.display =\n",
              "          google.colab.kernel.accessAllowed ? 'block' : 'none';\n",
              "\n",
              "        async function convertToInteractive(key) {\n",
              "          const element = document.querySelector('#df-8ca0bdf0-8a35-49b4-8c5d-fb48bce32585');\n",
              "          const dataTable =\n",
              "            await google.colab.kernel.invokeFunction('convertToInteractive',\n",
              "                                                     [key], {});\n",
              "          if (!dataTable) return;\n",
              "\n",
              "          const docLinkHtml = 'Like what you see? Visit the ' +\n",
              "            '<a target=\"_blank\" href=https://colab.research.google.com/notebooks/data_table.ipynb>data table notebook</a>'\n",
              "            + ' to learn more about interactive tables.';\n",
              "          element.innerHTML = '';\n",
              "          dataTable['output_type'] = 'display_data';\n",
              "          await google.colab.output.renderOutput(dataTable, element);\n",
              "          const docLink = document.createElement('div');\n",
              "          docLink.innerHTML = docLinkHtml;\n",
              "          element.appendChild(docLink);\n",
              "        }\n",
              "      </script>\n",
              "    </div>\n",
              "  </div>\n",
              "  "
            ],
            "text/plain": [
              "   Unnamed: 0  Gender  Age  ...  Product_Category_2  Product_Category_3  Purchase\n",
              "0           0       1    1  ...                   8                  16    8370.0\n",
              "1           1       1    1  ...                   6                  14   15200.0\n",
              "2           2       1    1  ...                   8                  16    1422.0\n",
              "3           3       1    1  ...                  14                  16    1057.0\n",
              "4           4       1    7  ...                   8                  16    7969.0\n",
              "\n",
              "[5 rows x 11 columns]"
            ]
          },
          "metadata": {},
          "execution_count": 41
        }
      ]
    },
    {
      "cell_type": "code",
      "source": [
        "X = df_train.iloc[:, :-1]\n",
        "Y = df_train.iloc[:,-1]\n",
        "X, Y = shuffle(X, Y)"
      ],
      "metadata": {
        "id": "JmgJ2N-N1kNl"
      },
      "execution_count": 42,
      "outputs": []
    },
    {
      "cell_type": "code",
      "source": [
        "x_train, x_test, y_train, y_test = train_test_split(X, Y, random_state=42, test_size=0.3)"
      ],
      "metadata": {
        "id": "KwC1hjtH1n_m"
      },
      "execution_count": 43,
      "outputs": []
    },
    {
      "cell_type": "code",
      "source": [
        "x_train = x_train.values\n",
        "x_test = x_test.values\n",
        "y_train = y_train.values\n",
        "y_test = y_test.values\n",
        "\n",
        "y_train = y_train.reshape(-1, 1)\n",
        "y_test = y_test.reshape(-1, 1)"
      ],
      "metadata": {
        "id": "F7kbCYiI1qzo"
      },
      "execution_count": 44,
      "outputs": []
    },
    {
      "cell_type": "code",
      "source": [
        "scaler_x = StandardScaler()\n",
        "X_train = scaler_x.fit_transform(x_train)\n",
        "X_test = scaler_x.transform(x_test)\n",
        "\n",
        "scaler_y = StandardScaler()\n",
        "y_train = scaler_y.fit_transform(y_train)\n",
        "y_test = scaler_y.transform(y_test)"
      ],
      "metadata": {
        "id": "aE3ci1km1sxa"
      },
      "execution_count": 45,
      "outputs": []
    },
    {
      "cell_type": "markdown",
      "source": [
        "#Model"
      ],
      "metadata": {
        "id": "EpA5bJvh1yNK"
      }
    },
    {
      "cell_type": "code",
      "source": [
        "y_test.shape"
      ],
      "metadata": {
        "colab": {
          "base_uri": "https://localhost:8080/"
        },
        "id": "zHzfQlvG2Rht",
        "outputId": "7c8c94f5-27e2-4c76-92d1-09dfb199f074"
      },
      "execution_count": 17,
      "outputs": [
        {
          "output_type": "execute_result",
          "data": {
            "text/plain": [
              "(165021, 1)"
            ]
          },
          "metadata": {},
          "execution_count": 17
        }
      ]
    },
    {
      "cell_type": "code",
      "source": [
        "import tensorflow as tf"
      ],
      "metadata": {
        "id": "YSl119Pw1uGY"
      },
      "execution_count": 18,
      "outputs": []
    },
    {
      "cell_type": "code",
      "source": [
        "model = tf.keras.models.Sequential()\n",
        "\n",
        "model.add(tf.keras.layers.Dense(units=256, activation=\"relu\", input_dim=X_train.shape[1]))\n",
        "model.add(tf.keras.layers.Dropout(rate=0.2))\n",
        "\n",
        "model.add(tf.keras.layers.Dense(units=128, activation=\"relu\"))\n",
        "model.add(tf.keras.layers.Dropout(rate=0.2))\n",
        "\n",
        "model.add(tf.keras.layers.Dense(units=64, activation=\"relu\"))\n",
        "model.add(tf.keras.layers.Dense(units=1, activation=\"linear\"))"
      ],
      "metadata": {
        "id": "RmMK9aBc11E5"
      },
      "execution_count": 21,
      "outputs": []
    },
    {
      "cell_type": "code",
      "source": [
        "model.summary()"
      ],
      "metadata": {
        "colab": {
          "base_uri": "https://localhost:8080/"
        },
        "id": "wuiFycm42Hqr",
        "outputId": "457fcbf3-3408-48e3-c7ba-57cd63d79f4a"
      },
      "execution_count": 22,
      "outputs": [
        {
          "output_type": "stream",
          "name": "stdout",
          "text": [
            "Model: \"sequential_2\"\n",
            "_________________________________________________________________\n",
            " Layer (type)                Output Shape              Param #   \n",
            "=================================================================\n",
            " dense_8 (Dense)             (None, 256)               2816      \n",
            "                                                                 \n",
            " dropout_4 (Dropout)         (None, 256)               0         \n",
            "                                                                 \n",
            " dense_9 (Dense)             (None, 128)               32896     \n",
            "                                                                 \n",
            " dropout_5 (Dropout)         (None, 128)               0         \n",
            "                                                                 \n",
            " dense_10 (Dense)            (None, 64)                8256      \n",
            "                                                                 \n",
            " dense_11 (Dense)            (None, 1)                 65        \n",
            "                                                                 \n",
            "=================================================================\n",
            "Total params: 44,033\n",
            "Trainable params: 44,033\n",
            "Non-trainable params: 0\n",
            "_________________________________________________________________\n"
          ]
        }
      ]
    },
    {
      "cell_type": "code",
      "source": [
        "model.compile(optimizer='adam', loss='mse', metrics=['mae'])"
      ],
      "metadata": {
        "id": "Z1bzV-Bt2Whc"
      },
      "execution_count": 23,
      "outputs": []
    },
    {
      "cell_type": "code",
      "source": [
        "model.fit(x=X_train, y=y_train, \n",
        "\tvalidation_data=(X_test, y_test),\n",
        "\tepochs=200, batch_size=256)"
      ],
      "metadata": {
        "colab": {
          "base_uri": "https://localhost:8080/"
        },
        "id": "fLqXT2fu2c5e",
        "outputId": "72486b99-2752-4073-c65f-4a873538d32b"
      },
      "execution_count": 24,
      "outputs": [
        {
          "output_type": "stream",
          "name": "stdout",
          "text": [
            "Epoch 1/200\n",
            "1505/1505 [==============================] - 9s 5ms/step - loss: 0.6392 - mae: 0.5900 - val_loss: 0.5180 - val_mae: 0.5357\n",
            "Epoch 2/200\n",
            "1505/1505 [==============================] - 9s 6ms/step - loss: 0.4743 - mae: 0.5109 - val_loss: 0.3807 - val_mae: 0.4709\n",
            "Epoch 3/200\n",
            "1505/1505 [==============================] - 9s 6ms/step - loss: 0.3889 - mae: 0.4734 - val_loss: 0.3805 - val_mae: 0.4608\n",
            "Epoch 4/200\n",
            "1505/1505 [==============================] - 8s 5ms/step - loss: 0.3766 - mae: 0.4658 - val_loss: 0.3712 - val_mae: 0.4618\n",
            "Epoch 5/200\n",
            "1505/1505 [==============================] - 9s 6ms/step - loss: 0.3719 - mae: 0.4629 - val_loss: 0.3631 - val_mae: 0.4609\n",
            "Epoch 6/200\n",
            "1505/1505 [==============================] - 8s 5ms/step - loss: 0.3693 - mae: 0.4607 - val_loss: 0.3672 - val_mae: 0.4596\n",
            "Epoch 7/200\n",
            "1505/1505 [==============================] - 8s 5ms/step - loss: 0.3672 - mae: 0.4592 - val_loss: 0.3680 - val_mae: 0.4592\n",
            "Epoch 8/200\n",
            "1505/1505 [==============================] - 8s 5ms/step - loss: 0.3663 - mae: 0.4585 - val_loss: 0.3653 - val_mae: 0.4573\n",
            "Epoch 9/200\n",
            "1505/1505 [==============================] - 8s 5ms/step - loss: 0.3650 - mae: 0.4576 - val_loss: 0.3715 - val_mae: 0.4613\n",
            "Epoch 10/200\n",
            "1505/1505 [==============================] - 8s 5ms/step - loss: 0.3638 - mae: 0.4565 - val_loss: 0.3570 - val_mae: 0.4552\n",
            "Epoch 11/200\n",
            "1505/1505 [==============================] - 8s 5ms/step - loss: 0.3625 - mae: 0.4556 - val_loss: 0.3597 - val_mae: 0.4524\n",
            "Epoch 12/200\n",
            "1505/1505 [==============================] - 8s 5ms/step - loss: 0.3625 - mae: 0.4555 - val_loss: 0.3630 - val_mae: 0.4516\n",
            "Epoch 13/200\n",
            "1505/1505 [==============================] - 9s 6ms/step - loss: 0.3617 - mae: 0.4549 - val_loss: 0.3574 - val_mae: 0.4536\n",
            "Epoch 14/200\n",
            "1505/1505 [==============================] - 9s 6ms/step - loss: 0.3615 - mae: 0.4547 - val_loss: 0.3590 - val_mae: 0.4573\n",
            "Epoch 15/200\n",
            "1505/1505 [==============================] - 7s 5ms/step - loss: 0.3603 - mae: 0.4539 - val_loss: 0.3700 - val_mae: 0.4580\n",
            "Epoch 16/200\n",
            "1505/1505 [==============================] - 9s 6ms/step - loss: 0.3596 - mae: 0.4533 - val_loss: 0.3598 - val_mae: 0.4559\n",
            "Epoch 17/200\n",
            "1505/1505 [==============================] - 9s 6ms/step - loss: 0.3600 - mae: 0.4535 - val_loss: 0.3633 - val_mae: 0.4549\n",
            "Epoch 18/200\n",
            "1505/1505 [==============================] - 8s 5ms/step - loss: 0.3586 - mae: 0.4527 - val_loss: 0.3547 - val_mae: 0.4506\n",
            "Epoch 19/200\n",
            "1505/1505 [==============================] - 8s 5ms/step - loss: 0.3592 - mae: 0.4527 - val_loss: 0.3562 - val_mae: 0.4505\n",
            "Epoch 20/200\n",
            "1505/1505 [==============================] - 8s 5ms/step - loss: 0.3579 - mae: 0.4522 - val_loss: 0.3537 - val_mae: 0.4525\n",
            "Epoch 21/200\n",
            "1505/1505 [==============================] - 9s 6ms/step - loss: 0.3575 - mae: 0.4518 - val_loss: 0.3553 - val_mae: 0.4515\n",
            "Epoch 22/200\n",
            "1505/1505 [==============================] - 9s 6ms/step - loss: 0.3580 - mae: 0.4518 - val_loss: 0.3544 - val_mae: 0.4504\n",
            "Epoch 23/200\n",
            "1505/1505 [==============================] - 9s 6ms/step - loss: 0.3573 - mae: 0.4512 - val_loss: 0.3509 - val_mae: 0.4518\n",
            "Epoch 24/200\n",
            "1505/1505 [==============================] - 9s 6ms/step - loss: 0.3565 - mae: 0.4507 - val_loss: 0.3549 - val_mae: 0.4536\n",
            "Epoch 25/200\n",
            "1505/1505 [==============================] - 9s 6ms/step - loss: 0.3564 - mae: 0.4508 - val_loss: 0.3519 - val_mae: 0.4495\n",
            "Epoch 26/200\n",
            "1505/1505 [==============================] - 9s 6ms/step - loss: 0.3559 - mae: 0.4505 - val_loss: 0.3548 - val_mae: 0.4491\n",
            "Epoch 27/200\n",
            "1505/1505 [==============================] - 7s 5ms/step - loss: 0.3563 - mae: 0.4503 - val_loss: 0.3532 - val_mae: 0.4514\n",
            "Epoch 28/200\n",
            "1505/1505 [==============================] - 7s 5ms/step - loss: 0.3547 - mae: 0.4494 - val_loss: 0.3504 - val_mae: 0.4486\n",
            "Epoch 29/200\n",
            "1505/1505 [==============================] - 9s 6ms/step - loss: 0.3547 - mae: 0.4494 - val_loss: 0.3512 - val_mae: 0.4478\n",
            "Epoch 30/200\n",
            "1505/1505 [==============================] - 7s 5ms/step - loss: 0.3549 - mae: 0.4495 - val_loss: 0.3505 - val_mae: 0.4502\n",
            "Epoch 31/200\n",
            "1505/1505 [==============================] - 7s 5ms/step - loss: 0.3543 - mae: 0.4491 - val_loss: 0.3483 - val_mae: 0.4458\n",
            "Epoch 32/200\n",
            "1505/1505 [==============================] - 8s 5ms/step - loss: 0.3544 - mae: 0.4490 - val_loss: 0.3517 - val_mae: 0.4469\n",
            "Epoch 33/200\n",
            "1505/1505 [==============================] - 9s 6ms/step - loss: 0.3544 - mae: 0.4489 - val_loss: 0.3502 - val_mae: 0.4473\n",
            "Epoch 34/200\n",
            "1505/1505 [==============================] - 7s 5ms/step - loss: 0.3540 - mae: 0.4488 - val_loss: 0.3497 - val_mae: 0.4463\n",
            "Epoch 35/200\n",
            "1505/1505 [==============================] - 9s 6ms/step - loss: 0.3530 - mae: 0.4481 - val_loss: 0.3532 - val_mae: 0.4485\n",
            "Epoch 36/200\n",
            "1505/1505 [==============================] - 8s 5ms/step - loss: 0.3528 - mae: 0.4479 - val_loss: 0.3483 - val_mae: 0.4456\n",
            "Epoch 37/200\n",
            "1505/1505 [==============================] - 9s 6ms/step - loss: 0.3533 - mae: 0.4480 - val_loss: 0.3497 - val_mae: 0.4480\n",
            "Epoch 38/200\n",
            "1505/1505 [==============================] - 7s 5ms/step - loss: 0.3530 - mae: 0.4479 - val_loss: 0.3479 - val_mae: 0.4459\n",
            "Epoch 39/200\n",
            "1505/1505 [==============================] - 9s 6ms/step - loss: 0.3521 - mae: 0.4476 - val_loss: 0.3481 - val_mae: 0.4470\n",
            "Epoch 40/200\n",
            "1505/1505 [==============================] - 7s 5ms/step - loss: 0.3529 - mae: 0.4478 - val_loss: 0.3473 - val_mae: 0.4454\n",
            "Epoch 41/200\n",
            "1505/1505 [==============================] - 9s 6ms/step - loss: 0.3521 - mae: 0.4474 - val_loss: 0.3481 - val_mae: 0.4462\n",
            "Epoch 42/200\n",
            "1505/1505 [==============================] - 8s 5ms/step - loss: 0.3521 - mae: 0.4475 - val_loss: 0.3554 - val_mae: 0.4506\n",
            "Epoch 43/200\n",
            "1505/1505 [==============================] - 9s 6ms/step - loss: 0.3523 - mae: 0.4474 - val_loss: 0.3498 - val_mae: 0.4518\n",
            "Epoch 44/200\n",
            "1505/1505 [==============================] - 9s 6ms/step - loss: 0.3523 - mae: 0.4474 - val_loss: 0.3476 - val_mae: 0.4461\n",
            "Epoch 45/200\n",
            "1505/1505 [==============================] - 9s 6ms/step - loss: 0.3519 - mae: 0.4471 - val_loss: 0.3515 - val_mae: 0.4497\n",
            "Epoch 46/200\n",
            "1505/1505 [==============================] - 9s 6ms/step - loss: 0.3515 - mae: 0.4470 - val_loss: 0.3480 - val_mae: 0.4430\n",
            "Epoch 47/200\n",
            "1505/1505 [==============================] - 8s 5ms/step - loss: 0.3511 - mae: 0.4468 - val_loss: 0.3470 - val_mae: 0.4438\n",
            "Epoch 48/200\n",
            "1505/1505 [==============================] - 9s 6ms/step - loss: 0.3514 - mae: 0.4468 - val_loss: 0.3463 - val_mae: 0.4413\n",
            "Epoch 49/200\n",
            "1505/1505 [==============================] - 7s 5ms/step - loss: 0.3516 - mae: 0.4471 - val_loss: 0.3493 - val_mae: 0.4473\n",
            "Epoch 50/200\n",
            "1505/1505 [==============================] - 7s 5ms/step - loss: 0.3517 - mae: 0.4471 - val_loss: 0.3493 - val_mae: 0.4457\n",
            "Epoch 51/200\n",
            "1505/1505 [==============================] - 7s 5ms/step - loss: 0.3514 - mae: 0.4468 - val_loss: 0.3472 - val_mae: 0.4455\n",
            "Epoch 52/200\n",
            "1505/1505 [==============================] - 9s 6ms/step - loss: 0.3510 - mae: 0.4464 - val_loss: 0.3488 - val_mae: 0.4462\n",
            "Epoch 53/200\n",
            "1505/1505 [==============================] - 7s 5ms/step - loss: 0.3509 - mae: 0.4464 - val_loss: 0.3478 - val_mae: 0.4427\n",
            "Epoch 54/200\n",
            "1505/1505 [==============================] - 7s 5ms/step - loss: 0.3509 - mae: 0.4464 - val_loss: 0.3478 - val_mae: 0.4447\n",
            "Epoch 55/200\n",
            "1505/1505 [==============================] - 7s 5ms/step - loss: 0.3507 - mae: 0.4464 - val_loss: 0.3466 - val_mae: 0.4452\n",
            "Epoch 56/200\n",
            "1505/1505 [==============================] - 7s 5ms/step - loss: 0.3502 - mae: 0.4460 - val_loss: 0.3455 - val_mae: 0.4420\n",
            "Epoch 57/200\n",
            "1505/1505 [==============================] - 7s 5ms/step - loss: 0.3512 - mae: 0.4467 - val_loss: 0.3469 - val_mae: 0.4437\n",
            "Epoch 58/200\n",
            "1505/1505 [==============================] - 8s 5ms/step - loss: 0.3503 - mae: 0.4459 - val_loss: 0.3473 - val_mae: 0.4447\n",
            "Epoch 59/200\n",
            "1505/1505 [==============================] - 8s 5ms/step - loss: 0.3503 - mae: 0.4459 - val_loss: 0.3482 - val_mae: 0.4461\n",
            "Epoch 60/200\n",
            "1505/1505 [==============================] - 8s 5ms/step - loss: 0.3503 - mae: 0.4460 - val_loss: 0.3456 - val_mae: 0.4458\n",
            "Epoch 61/200\n",
            "1505/1505 [==============================] - 9s 6ms/step - loss: 0.3503 - mae: 0.4459 - val_loss: 0.3462 - val_mae: 0.4454\n",
            "Epoch 62/200\n",
            "1505/1505 [==============================] - 9s 6ms/step - loss: 0.3502 - mae: 0.4458 - val_loss: 0.3479 - val_mae: 0.4474\n",
            "Epoch 63/200\n",
            "1505/1505 [==============================] - 8s 5ms/step - loss: 0.3502 - mae: 0.4460 - val_loss: 0.3464 - val_mae: 0.4436\n",
            "Epoch 64/200\n",
            "1505/1505 [==============================] - 9s 6ms/step - loss: 0.3504 - mae: 0.4459 - val_loss: 0.3470 - val_mae: 0.4435\n",
            "Epoch 65/200\n",
            "1505/1505 [==============================] - 8s 5ms/step - loss: 0.3499 - mae: 0.4457 - val_loss: 0.3463 - val_mae: 0.4441\n",
            "Epoch 66/200\n",
            "1505/1505 [==============================] - 8s 5ms/step - loss: 0.3498 - mae: 0.4457 - val_loss: 0.3474 - val_mae: 0.4461\n",
            "Epoch 67/200\n",
            "1505/1505 [==============================] - 8s 5ms/step - loss: 0.3505 - mae: 0.4459 - val_loss: 0.3473 - val_mae: 0.4449\n",
            "Epoch 68/200\n",
            "1505/1505 [==============================] - 8s 5ms/step - loss: 0.3499 - mae: 0.4456 - val_loss: 0.3463 - val_mae: 0.4431\n",
            "Epoch 69/200\n",
            "1505/1505 [==============================] - 8s 5ms/step - loss: 0.3500 - mae: 0.4457 - val_loss: 0.3460 - val_mae: 0.4438\n",
            "Epoch 70/200\n",
            "1505/1505 [==============================] - 9s 6ms/step - loss: 0.3495 - mae: 0.4454 - val_loss: 0.3453 - val_mae: 0.4426\n",
            "Epoch 71/200\n",
            "1505/1505 [==============================] - 8s 5ms/step - loss: 0.3493 - mae: 0.4455 - val_loss: 0.3461 - val_mae: 0.4440\n",
            "Epoch 72/200\n",
            "1505/1505 [==============================] - 8s 5ms/step - loss: 0.3494 - mae: 0.4454 - val_loss: 0.3460 - val_mae: 0.4459\n",
            "Epoch 73/200\n",
            "1505/1505 [==============================] - 8s 5ms/step - loss: 0.3492 - mae: 0.4452 - val_loss: 0.3460 - val_mae: 0.4442\n",
            "Epoch 74/200\n",
            "1505/1505 [==============================] - 8s 5ms/step - loss: 0.3498 - mae: 0.4455 - val_loss: 0.3467 - val_mae: 0.4465\n",
            "Epoch 75/200\n",
            "1505/1505 [==============================] - 8s 5ms/step - loss: 0.3489 - mae: 0.4451 - val_loss: 0.3455 - val_mae: 0.4421\n",
            "Epoch 76/200\n",
            "1505/1505 [==============================] - 8s 5ms/step - loss: 0.3497 - mae: 0.4451 - val_loss: 0.3456 - val_mae: 0.4453\n",
            "Epoch 77/200\n",
            "1505/1505 [==============================] - 8s 5ms/step - loss: 0.3492 - mae: 0.4450 - val_loss: 0.3446 - val_mae: 0.4427\n",
            "Epoch 78/200\n",
            "1505/1505 [==============================] - 9s 6ms/step - loss: 0.3493 - mae: 0.4451 - val_loss: 0.3473 - val_mae: 0.4439\n",
            "Epoch 79/200\n",
            "1505/1505 [==============================] - 9s 6ms/step - loss: 0.3489 - mae: 0.4449 - val_loss: 0.3470 - val_mae: 0.4447\n",
            "Epoch 80/200\n",
            "1505/1505 [==============================] - 7s 5ms/step - loss: 0.3490 - mae: 0.4450 - val_loss: 0.3455 - val_mae: 0.4459\n",
            "Epoch 81/200\n",
            "1505/1505 [==============================] - 8s 5ms/step - loss: 0.3493 - mae: 0.4450 - val_loss: 0.3468 - val_mae: 0.4434\n",
            "Epoch 82/200\n",
            "1505/1505 [==============================] - 8s 5ms/step - loss: 0.3488 - mae: 0.4447 - val_loss: 0.3449 - val_mae: 0.4433\n",
            "Epoch 83/200\n",
            "1505/1505 [==============================] - 8s 5ms/step - loss: 0.3490 - mae: 0.4448 - val_loss: 0.3452 - val_mae: 0.4406\n",
            "Epoch 84/200\n",
            "1505/1505 [==============================] - 8s 5ms/step - loss: 0.3486 - mae: 0.4446 - val_loss: 0.3474 - val_mae: 0.4450\n",
            "Epoch 85/200\n",
            "1505/1505 [==============================] - 8s 5ms/step - loss: 0.3491 - mae: 0.4450 - val_loss: 0.3464 - val_mae: 0.4441\n",
            "Epoch 86/200\n",
            "1505/1505 [==============================] - 9s 6ms/step - loss: 0.3487 - mae: 0.4447 - val_loss: 0.3449 - val_mae: 0.4434\n",
            "Epoch 87/200\n",
            "1505/1505 [==============================] - 8s 5ms/step - loss: 0.3481 - mae: 0.4445 - val_loss: 0.3461 - val_mae: 0.4469\n",
            "Epoch 88/200\n",
            "1505/1505 [==============================] - 8s 5ms/step - loss: 0.3490 - mae: 0.4447 - val_loss: 0.3458 - val_mae: 0.4429\n",
            "Epoch 89/200\n",
            "1505/1505 [==============================] - 8s 5ms/step - loss: 0.3485 - mae: 0.4446 - val_loss: 0.3447 - val_mae: 0.4430\n",
            "Epoch 90/200\n",
            "1505/1505 [==============================] - 8s 5ms/step - loss: 0.3490 - mae: 0.4449 - val_loss: 0.3462 - val_mae: 0.4470\n",
            "Epoch 91/200\n",
            "1505/1505 [==============================] - 9s 6ms/step - loss: 0.3488 - mae: 0.4448 - val_loss: 0.3459 - val_mae: 0.4437\n",
            "Epoch 92/200\n",
            "1505/1505 [==============================] - 8s 5ms/step - loss: 0.3486 - mae: 0.4444 - val_loss: 0.3468 - val_mae: 0.4490\n",
            "Epoch 93/200\n",
            "1505/1505 [==============================] - 8s 5ms/step - loss: 0.3481 - mae: 0.4442 - val_loss: 0.3453 - val_mae: 0.4428\n",
            "Epoch 94/200\n",
            "1505/1505 [==============================] - 9s 6ms/step - loss: 0.3485 - mae: 0.4447 - val_loss: 0.3459 - val_mae: 0.4439\n",
            "Epoch 95/200\n",
            "1505/1505 [==============================] - 9s 6ms/step - loss: 0.3482 - mae: 0.4443 - val_loss: 0.3446 - val_mae: 0.4420\n",
            "Epoch 96/200\n",
            "1505/1505 [==============================] - 9s 6ms/step - loss: 0.3484 - mae: 0.4443 - val_loss: 0.3445 - val_mae: 0.4440\n",
            "Epoch 97/200\n",
            "1505/1505 [==============================] - 8s 5ms/step - loss: 0.3482 - mae: 0.4442 - val_loss: 0.3456 - val_mae: 0.4464\n",
            "Epoch 98/200\n",
            "1505/1505 [==============================] - 9s 6ms/step - loss: 0.3488 - mae: 0.4446 - val_loss: 0.3463 - val_mae: 0.4458\n",
            "Epoch 99/200\n",
            "1505/1505 [==============================] - 9s 6ms/step - loss: 0.3480 - mae: 0.4441 - val_loss: 0.3456 - val_mae: 0.4467\n",
            "Epoch 100/200\n",
            "1505/1505 [==============================] - 8s 5ms/step - loss: 0.3479 - mae: 0.4443 - val_loss: 0.3457 - val_mae: 0.4437\n",
            "Epoch 101/200\n",
            "1505/1505 [==============================] - 8s 5ms/step - loss: 0.3479 - mae: 0.4439 - val_loss: 0.3441 - val_mae: 0.4403\n",
            "Epoch 102/200\n",
            "1505/1505 [==============================] - 8s 5ms/step - loss: 0.3475 - mae: 0.4438 - val_loss: 0.3442 - val_mae: 0.4430\n",
            "Epoch 103/200\n",
            "1505/1505 [==============================] - 8s 5ms/step - loss: 0.3476 - mae: 0.4438 - val_loss: 0.3448 - val_mae: 0.4445\n",
            "Epoch 104/200\n",
            "1505/1505 [==============================] - 8s 5ms/step - loss: 0.3475 - mae: 0.4438 - val_loss: 0.3439 - val_mae: 0.4414\n",
            "Epoch 105/200\n",
            "1505/1505 [==============================] - 9s 6ms/step - loss: 0.3480 - mae: 0.4440 - val_loss: 0.3453 - val_mae: 0.4419\n",
            "Epoch 106/200\n",
            "1505/1505 [==============================] - 9s 6ms/step - loss: 0.3474 - mae: 0.4438 - val_loss: 0.3459 - val_mae: 0.4472\n",
            "Epoch 107/200\n",
            "1505/1505 [==============================] - 9s 6ms/step - loss: 0.3479 - mae: 0.4441 - val_loss: 0.3462 - val_mae: 0.4446\n",
            "Epoch 108/200\n",
            "1505/1505 [==============================] - 8s 5ms/step - loss: 0.3476 - mae: 0.4438 - val_loss: 0.3444 - val_mae: 0.4413\n",
            "Epoch 109/200\n",
            "1505/1505 [==============================] - 9s 6ms/step - loss: 0.3482 - mae: 0.4441 - val_loss: 0.3448 - val_mae: 0.4419\n",
            "Epoch 110/200\n",
            "1505/1505 [==============================] - 9s 6ms/step - loss: 0.3474 - mae: 0.4437 - val_loss: 0.3440 - val_mae: 0.4433\n",
            "Epoch 111/200\n",
            "1505/1505 [==============================] - 9s 6ms/step - loss: 0.3474 - mae: 0.4439 - val_loss: 0.3443 - val_mae: 0.4437\n",
            "Epoch 112/200\n",
            "1505/1505 [==============================] - 8s 5ms/step - loss: 0.3475 - mae: 0.4437 - val_loss: 0.3443 - val_mae: 0.4429\n",
            "Epoch 113/200\n",
            "1505/1505 [==============================] - 8s 5ms/step - loss: 0.3477 - mae: 0.4438 - val_loss: 0.3446 - val_mae: 0.4424\n",
            "Epoch 114/200\n",
            "1505/1505 [==============================] - 8s 5ms/step - loss: 0.3479 - mae: 0.4439 - val_loss: 0.3451 - val_mae: 0.4440\n",
            "Epoch 115/200\n",
            "1505/1505 [==============================] - 8s 5ms/step - loss: 0.3477 - mae: 0.4438 - val_loss: 0.3443 - val_mae: 0.4431\n",
            "Epoch 116/200\n",
            "1505/1505 [==============================] - 8s 5ms/step - loss: 0.3473 - mae: 0.4438 - val_loss: 0.3444 - val_mae: 0.4427\n",
            "Epoch 117/200\n",
            "1505/1505 [==============================] - 8s 5ms/step - loss: 0.3476 - mae: 0.4438 - val_loss: 0.3451 - val_mae: 0.4438\n",
            "Epoch 118/200\n",
            "1505/1505 [==============================] - 9s 6ms/step - loss: 0.3472 - mae: 0.4435 - val_loss: 0.3457 - val_mae: 0.4427\n",
            "Epoch 119/200\n",
            "1505/1505 [==============================] - 8s 5ms/step - loss: 0.3475 - mae: 0.4437 - val_loss: 0.3458 - val_mae: 0.4445\n",
            "Epoch 120/200\n",
            "1505/1505 [==============================] - 9s 6ms/step - loss: 0.3474 - mae: 0.4435 - val_loss: 0.3444 - val_mae: 0.4445\n",
            "Epoch 121/200\n",
            "1505/1505 [==============================] - 9s 6ms/step - loss: 0.3476 - mae: 0.4437 - val_loss: 0.3451 - val_mae: 0.4449\n",
            "Epoch 122/200\n",
            "1505/1505 [==============================] - 8s 5ms/step - loss: 0.3473 - mae: 0.4436 - val_loss: 0.3446 - val_mae: 0.4431\n",
            "Epoch 123/200\n",
            "1505/1505 [==============================] - 9s 6ms/step - loss: 0.3476 - mae: 0.4438 - val_loss: 0.3440 - val_mae: 0.4399\n",
            "Epoch 124/200\n",
            "1505/1505 [==============================] - 9s 6ms/step - loss: 0.3472 - mae: 0.4437 - val_loss: 0.3469 - val_mae: 0.4488\n",
            "Epoch 125/200\n",
            "1505/1505 [==============================] - 8s 5ms/step - loss: 0.3473 - mae: 0.4435 - val_loss: 0.3447 - val_mae: 0.4422\n",
            "Epoch 126/200\n",
            "1505/1505 [==============================] - 7s 5ms/step - loss: 0.3474 - mae: 0.4436 - val_loss: 0.3440 - val_mae: 0.4400\n",
            "Epoch 127/200\n",
            "1505/1505 [==============================] - 8s 5ms/step - loss: 0.3469 - mae: 0.4434 - val_loss: 0.3432 - val_mae: 0.4399\n",
            "Epoch 128/200\n",
            "1505/1505 [==============================] - 8s 5ms/step - loss: 0.3465 - mae: 0.4430 - val_loss: 0.3452 - val_mae: 0.4469\n",
            "Epoch 129/200\n",
            "1505/1505 [==============================] - 7s 5ms/step - loss: 0.3471 - mae: 0.4435 - val_loss: 0.3436 - val_mae: 0.4405\n",
            "Epoch 130/200\n",
            "1505/1505 [==============================] - 7s 5ms/step - loss: 0.3469 - mae: 0.4433 - val_loss: 0.3450 - val_mae: 0.4420\n",
            "Epoch 131/200\n",
            "1505/1505 [==============================] - 7s 5ms/step - loss: 0.3478 - mae: 0.4438 - val_loss: 0.3460 - val_mae: 0.4431\n",
            "Epoch 132/200\n",
            "1505/1505 [==============================] - 7s 5ms/step - loss: 0.3471 - mae: 0.4433 - val_loss: 0.3459 - val_mae: 0.4448\n",
            "Epoch 133/200\n",
            "1505/1505 [==============================] - 8s 5ms/step - loss: 0.3469 - mae: 0.4433 - val_loss: 0.3444 - val_mae: 0.4418\n",
            "Epoch 134/200\n",
            "1505/1505 [==============================] - 8s 5ms/step - loss: 0.3467 - mae: 0.4429 - val_loss: 0.3446 - val_mae: 0.4422\n",
            "Epoch 135/200\n",
            "1505/1505 [==============================] - 9s 6ms/step - loss: 0.3470 - mae: 0.4433 - val_loss: 0.3436 - val_mae: 0.4422\n",
            "Epoch 136/200\n",
            "1505/1505 [==============================] - 8s 5ms/step - loss: 0.3469 - mae: 0.4431 - val_loss: 0.3462 - val_mae: 0.4464\n",
            "Epoch 137/200\n",
            "1505/1505 [==============================] - 9s 6ms/step - loss: 0.3468 - mae: 0.4431 - val_loss: 0.3447 - val_mae: 0.4421\n",
            "Epoch 138/200\n",
            "1505/1505 [==============================] - 9s 6ms/step - loss: 0.3471 - mae: 0.4434 - val_loss: 0.3445 - val_mae: 0.4426\n",
            "Epoch 139/200\n",
            "1505/1505 [==============================] - 9s 6ms/step - loss: 0.3467 - mae: 0.4429 - val_loss: 0.3439 - val_mae: 0.4431\n",
            "Epoch 140/200\n",
            "1505/1505 [==============================] - 8s 5ms/step - loss: 0.3471 - mae: 0.4434 - val_loss: 0.3438 - val_mae: 0.4428\n",
            "Epoch 141/200\n",
            "1505/1505 [==============================] - 8s 5ms/step - loss: 0.3463 - mae: 0.4428 - val_loss: 0.3459 - val_mae: 0.4449\n",
            "Epoch 142/200\n",
            "1505/1505 [==============================] - 9s 6ms/step - loss: 0.3467 - mae: 0.4432 - val_loss: 0.3435 - val_mae: 0.4429\n",
            "Epoch 143/200\n",
            "1505/1505 [==============================] - 7s 5ms/step - loss: 0.3465 - mae: 0.4429 - val_loss: 0.3442 - val_mae: 0.4418\n",
            "Epoch 144/200\n",
            "1505/1505 [==============================] - 8s 5ms/step - loss: 0.3469 - mae: 0.4432 - val_loss: 0.3442 - val_mae: 0.4425\n",
            "Epoch 145/200\n",
            "1505/1505 [==============================] - 8s 5ms/step - loss: 0.3462 - mae: 0.4425 - val_loss: 0.3459 - val_mae: 0.4431\n",
            "Epoch 146/200\n",
            "1505/1505 [==============================] - 8s 5ms/step - loss: 0.3462 - mae: 0.4427 - val_loss: 0.3442 - val_mae: 0.4420\n",
            "Epoch 147/200\n",
            "1505/1505 [==============================] - 9s 6ms/step - loss: 0.3462 - mae: 0.4427 - val_loss: 0.3453 - val_mae: 0.4414\n",
            "Epoch 148/200\n",
            "1505/1505 [==============================] - 7s 5ms/step - loss: 0.3472 - mae: 0.4434 - val_loss: 0.3456 - val_mae: 0.4430\n",
            "Epoch 149/200\n",
            "1505/1505 [==============================] - 7s 5ms/step - loss: 0.3464 - mae: 0.4427 - val_loss: 0.3436 - val_mae: 0.4420\n",
            "Epoch 150/200\n",
            "1505/1505 [==============================] - 8s 5ms/step - loss: 0.3467 - mae: 0.4430 - val_loss: 0.3446 - val_mae: 0.4422\n",
            "Epoch 151/200\n",
            "1505/1505 [==============================] - 8s 5ms/step - loss: 0.3462 - mae: 0.4427 - val_loss: 0.3436 - val_mae: 0.4423\n",
            "Epoch 152/200\n",
            "1505/1505 [==============================] - 8s 5ms/step - loss: 0.3465 - mae: 0.4428 - val_loss: 0.3437 - val_mae: 0.4437\n",
            "Epoch 153/200\n",
            "1505/1505 [==============================] - 9s 6ms/step - loss: 0.3470 - mae: 0.4433 - val_loss: 0.3434 - val_mae: 0.4404\n",
            "Epoch 154/200\n",
            "1505/1505 [==============================] - 8s 5ms/step - loss: 0.3464 - mae: 0.4426 - val_loss: 0.3449 - val_mae: 0.4453\n",
            "Epoch 155/200\n",
            "1505/1505 [==============================] - 9s 6ms/step - loss: 0.3461 - mae: 0.4428 - val_loss: 0.3453 - val_mae: 0.4444\n",
            "Epoch 156/200\n",
            "1505/1505 [==============================] - 8s 5ms/step - loss: 0.3459 - mae: 0.4424 - val_loss: 0.3437 - val_mae: 0.4418\n",
            "Epoch 157/200\n",
            "1505/1505 [==============================] - 8s 5ms/step - loss: 0.3461 - mae: 0.4425 - val_loss: 0.3436 - val_mae: 0.4399\n",
            "Epoch 158/200\n",
            "1505/1505 [==============================] - 9s 6ms/step - loss: 0.3459 - mae: 0.4423 - val_loss: 0.3437 - val_mae: 0.4427\n",
            "Epoch 159/200\n",
            "1505/1505 [==============================] - 9s 6ms/step - loss: 0.3463 - mae: 0.4425 - val_loss: 0.3431 - val_mae: 0.4407\n",
            "Epoch 160/200\n",
            "1505/1505 [==============================] - 9s 6ms/step - loss: 0.3458 - mae: 0.4424 - val_loss: 0.3437 - val_mae: 0.4426\n",
            "Epoch 161/200\n",
            "1505/1505 [==============================] - 8s 5ms/step - loss: 0.3464 - mae: 0.4428 - val_loss: 0.3437 - val_mae: 0.4400\n",
            "Epoch 162/200\n",
            "1505/1505 [==============================] - 9s 6ms/step - loss: 0.3462 - mae: 0.4428 - val_loss: 0.3437 - val_mae: 0.4434\n",
            "Epoch 163/200\n",
            "1505/1505 [==============================] - 9s 6ms/step - loss: 0.3462 - mae: 0.4428 - val_loss: 0.3438 - val_mae: 0.4413\n",
            "Epoch 164/200\n",
            "1505/1505 [==============================] - 8s 5ms/step - loss: 0.3464 - mae: 0.4426 - val_loss: 0.3450 - val_mae: 0.4439\n",
            "Epoch 165/200\n",
            "1505/1505 [==============================] - 8s 5ms/step - loss: 0.3462 - mae: 0.4427 - val_loss: 0.3430 - val_mae: 0.4405\n",
            "Epoch 166/200\n",
            "1505/1505 [==============================] - 9s 6ms/step - loss: 0.3456 - mae: 0.4422 - val_loss: 0.3434 - val_mae: 0.4431\n",
            "Epoch 167/200\n",
            "1505/1505 [==============================] - 9s 6ms/step - loss: 0.3460 - mae: 0.4426 - val_loss: 0.3430 - val_mae: 0.4422\n",
            "Epoch 168/200\n",
            "1505/1505 [==============================] - 8s 5ms/step - loss: 0.3454 - mae: 0.4423 - val_loss: 0.3433 - val_mae: 0.4402\n",
            "Epoch 169/200\n",
            "1505/1505 [==============================] - 8s 5ms/step - loss: 0.3460 - mae: 0.4423 - val_loss: 0.3455 - val_mae: 0.4443\n",
            "Epoch 170/200\n",
            "1505/1505 [==============================] - 9s 6ms/step - loss: 0.3460 - mae: 0.4425 - val_loss: 0.3442 - val_mae: 0.4436\n",
            "Epoch 171/200\n",
            "1505/1505 [==============================] - 7s 5ms/step - loss: 0.3455 - mae: 0.4422 - val_loss: 0.3431 - val_mae: 0.4411\n",
            "Epoch 172/200\n",
            "1505/1505 [==============================] - 8s 5ms/step - loss: 0.3458 - mae: 0.4424 - val_loss: 0.3435 - val_mae: 0.4423\n",
            "Epoch 173/200\n",
            "1505/1505 [==============================] - 8s 5ms/step - loss: 0.3457 - mae: 0.4424 - val_loss: 0.3435 - val_mae: 0.4386\n",
            "Epoch 174/200\n",
            "1505/1505 [==============================] - 8s 5ms/step - loss: 0.3458 - mae: 0.4422 - val_loss: 0.3434 - val_mae: 0.4419\n",
            "Epoch 175/200\n",
            "1505/1505 [==============================] - 8s 5ms/step - loss: 0.3456 - mae: 0.4421 - val_loss: 0.3437 - val_mae: 0.4430\n",
            "Epoch 176/200\n",
            "1505/1505 [==============================] - 9s 6ms/step - loss: 0.3460 - mae: 0.4425 - val_loss: 0.3443 - val_mae: 0.4407\n",
            "Epoch 177/200\n",
            "1505/1505 [==============================] - 8s 5ms/step - loss: 0.3458 - mae: 0.4424 - val_loss: 0.3432 - val_mae: 0.4408\n",
            "Epoch 178/200\n",
            "1505/1505 [==============================] - 8s 5ms/step - loss: 0.3459 - mae: 0.4422 - val_loss: 0.3434 - val_mae: 0.4425\n",
            "Epoch 179/200\n",
            "1505/1505 [==============================] - 9s 6ms/step - loss: 0.3455 - mae: 0.4421 - val_loss: 0.3436 - val_mae: 0.4429\n",
            "Epoch 180/200\n",
            "1505/1505 [==============================] - 8s 5ms/step - loss: 0.3458 - mae: 0.4422 - val_loss: 0.3433 - val_mae: 0.4412\n",
            "Epoch 181/200\n",
            "1505/1505 [==============================] - 9s 6ms/step - loss: 0.3458 - mae: 0.4421 - val_loss: 0.3452 - val_mae: 0.4453\n",
            "Epoch 182/200\n",
            "1505/1505 [==============================] - 8s 5ms/step - loss: 0.3456 - mae: 0.4422 - val_loss: 0.3436 - val_mae: 0.4435\n",
            "Epoch 183/200\n",
            "1505/1505 [==============================] - 8s 5ms/step - loss: 0.3455 - mae: 0.4421 - val_loss: 0.3433 - val_mae: 0.4410\n",
            "Epoch 184/200\n",
            "1505/1505 [==============================] - 8s 5ms/step - loss: 0.3455 - mae: 0.4421 - val_loss: 0.3438 - val_mae: 0.4429\n",
            "Epoch 185/200\n",
            "1505/1505 [==============================] - 8s 5ms/step - loss: 0.3459 - mae: 0.4423 - val_loss: 0.3441 - val_mae: 0.4435\n",
            "Epoch 186/200\n",
            "1505/1505 [==============================] - 8s 5ms/step - loss: 0.3455 - mae: 0.4420 - val_loss: 0.3432 - val_mae: 0.4409\n",
            "Epoch 187/200\n",
            "1505/1505 [==============================] - 9s 6ms/step - loss: 0.3452 - mae: 0.4419 - val_loss: 0.3437 - val_mae: 0.4420\n",
            "Epoch 188/200\n",
            "1505/1505 [==============================] - 8s 5ms/step - loss: 0.3450 - mae: 0.4417 - val_loss: 0.3431 - val_mae: 0.4417\n",
            "Epoch 189/200\n",
            "1505/1505 [==============================] - 8s 5ms/step - loss: 0.3453 - mae: 0.4420 - val_loss: 0.3440 - val_mae: 0.4422\n",
            "Epoch 190/200\n",
            "1505/1505 [==============================] - 9s 6ms/step - loss: 0.3453 - mae: 0.4421 - val_loss: 0.3433 - val_mae: 0.4425\n",
            "Epoch 191/200\n",
            "1505/1505 [==============================] - 8s 5ms/step - loss: 0.3455 - mae: 0.4420 - val_loss: 0.3427 - val_mae: 0.4414\n",
            "Epoch 192/200\n",
            "1505/1505 [==============================] - 9s 6ms/step - loss: 0.3454 - mae: 0.4420 - val_loss: 0.3430 - val_mae: 0.4401\n",
            "Epoch 193/200\n",
            "1505/1505 [==============================] - 8s 5ms/step - loss: 0.3452 - mae: 0.4419 - val_loss: 0.3427 - val_mae: 0.4417\n",
            "Epoch 194/200\n",
            "1505/1505 [==============================] - 8s 5ms/step - loss: 0.3449 - mae: 0.4416 - val_loss: 0.3431 - val_mae: 0.4416\n",
            "Epoch 195/200\n",
            "1505/1505 [==============================] - 8s 5ms/step - loss: 0.3450 - mae: 0.4418 - val_loss: 0.3431 - val_mae: 0.4429\n",
            "Epoch 196/200\n",
            "1505/1505 [==============================] - 9s 6ms/step - loss: 0.3452 - mae: 0.4417 - val_loss: 0.3428 - val_mae: 0.4430\n",
            "Epoch 197/200\n",
            "1505/1505 [==============================] - 8s 5ms/step - loss: 0.3449 - mae: 0.4417 - val_loss: 0.3431 - val_mae: 0.4415\n",
            "Epoch 198/200\n",
            "1505/1505 [==============================] - 9s 6ms/step - loss: 0.3454 - mae: 0.4420 - val_loss: 0.3428 - val_mae: 0.4418\n",
            "Epoch 199/200\n",
            "1505/1505 [==============================] - 8s 5ms/step - loss: 0.3446 - mae: 0.4415 - val_loss: 0.3422 - val_mae: 0.4400\n",
            "Epoch 200/200\n",
            "1505/1505 [==============================] - 9s 6ms/step - loss: 0.3452 - mae: 0.4416 - val_loss: 0.3431 - val_mae: 0.4397\n"
          ]
        },
        {
          "output_type": "execute_result",
          "data": {
            "text/plain": [
              "<keras.callbacks.History at 0x7f76ee7f4810>"
            ]
          },
          "metadata": {},
          "execution_count": 24
        }
      ]
    },
    {
      "cell_type": "code",
      "source": [
        "model.evaluate(X_test, y_test)"
      ],
      "metadata": {
        "colab": {
          "base_uri": "https://localhost:8080/"
        },
        "id": "BO6-Uomc2fsd",
        "outputId": "75f861c5-6f64-46fa-924a-7d5240e37bfb"
      },
      "execution_count": 25,
      "outputs": [
        {
          "output_type": "stream",
          "name": "stdout",
          "text": [
            "5157/5157 [==============================] - 15s 3ms/step - loss: 0.3431 - mae: 0.4397\n"
          ]
        },
        {
          "output_type": "execute_result",
          "data": {
            "text/plain": [
              "[0.34312930703163147, 0.43971335887908936]"
            ]
          },
          "metadata": {},
          "execution_count": 25
        }
      ]
    },
    {
      "cell_type": "code",
      "source": [
        "pred = model.predict(X_test)"
      ],
      "metadata": {
        "id": "JFQvBN1LAd58"
      },
      "execution_count": 26,
      "outputs": []
    },
    {
      "cell_type": "code",
      "source": [
        "y_predict = scaler_y.inverse_transform(pred)\n",
        "y_test = scaler_y.inverse_transform(y_test)"
      ],
      "metadata": {
        "id": "CvMSZEB-A2kY"
      },
      "execution_count": 27,
      "outputs": []
    },
    {
      "cell_type": "code",
      "source": [
        "from sklearn.metrics import r2_score, mean_squared_error, mean_absolute_error\n",
        "from math import sqrt\n",
        "import numpy as np\n",
        "\n",
        "RMSE = float(format(np.sqrt(mean_squared_error(y_test, y_predict)),'.3f'))\n",
        "MSE = mean_squared_error(y_test, y_predict)\n",
        "r2 = r2_score(y_test, y_predict)"
      ],
      "metadata": {
        "id": "3OHQIxzqA5x3"
      },
      "execution_count": 28,
      "outputs": []
    },
    {
      "cell_type": "code",
      "source": [
        "print('RMSE =',RMSE, '\\nMSE =',MSE, '\\nR2 =', round(r2,4)) "
      ],
      "metadata": {
        "colab": {
          "base_uri": "https://localhost:8080/"
        },
        "id": "28wPsTsjA8Io",
        "outputId": "d66c45da-8640-4510-925b-6625f670526b"
      },
      "execution_count": 29,
      "outputs": [
        {
          "output_type": "stream",
          "name": "stdout",
          "text": [
            "RMSE = 2942.62 \n",
            "MSE = 8659012.42587006 \n",
            "R2 = 0.6567\n"
          ]
        }
      ]
    },
    {
      "cell_type": "code",
      "source": [
        "predict_df = pd.DataFrame(y_predict)\n",
        "test_df = pd.DataFrame(y_test)\n",
        "\n",
        "compared = pd.concat([test_df, predict_df], axis = 1)\n",
        "compared.sample(7)"
      ],
      "metadata": {
        "colab": {
          "base_uri": "https://localhost:8080/",
          "height": 268
        },
        "id": "wkbH_pykBIPo",
        "outputId": "1552e80a-756e-4971-d873-05d4cc1d389c"
      },
      "execution_count": 30,
      "outputs": [
        {
          "output_type": "execute_result",
          "data": {
            "text/html": [
              "\n",
              "  <div id=\"df-9aeaabf3-0c3b-41bb-9d0f-ac4a5d7b83f1\">\n",
              "    <div class=\"colab-df-container\">\n",
              "      <div>\n",
              "<style scoped>\n",
              "    .dataframe tbody tr th:only-of-type {\n",
              "        vertical-align: middle;\n",
              "    }\n",
              "\n",
              "    .dataframe tbody tr th {\n",
              "        vertical-align: top;\n",
              "    }\n",
              "\n",
              "    .dataframe thead th {\n",
              "        text-align: right;\n",
              "    }\n",
              "</style>\n",
              "<table border=\"1\" class=\"dataframe\">\n",
              "  <thead>\n",
              "    <tr style=\"text-align: right;\">\n",
              "      <th></th>\n",
              "      <th>0</th>\n",
              "      <th>0</th>\n",
              "    </tr>\n",
              "  </thead>\n",
              "  <tbody>\n",
              "    <tr>\n",
              "      <th>50328</th>\n",
              "      <td>5309.0</td>\n",
              "      <td>6163.640137</td>\n",
              "    </tr>\n",
              "    <tr>\n",
              "      <th>10626</th>\n",
              "      <td>5941.0</td>\n",
              "      <td>5198.945801</td>\n",
              "    </tr>\n",
              "    <tr>\n",
              "      <th>122597</th>\n",
              "      <td>13.0</td>\n",
              "      <td>65.145035</td>\n",
              "    </tr>\n",
              "    <tr>\n",
              "      <th>10964</th>\n",
              "      <td>12007.0</td>\n",
              "      <td>12904.424805</td>\n",
              "    </tr>\n",
              "    <tr>\n",
              "      <th>70646</th>\n",
              "      <td>4253.0</td>\n",
              "      <td>13073.716797</td>\n",
              "    </tr>\n",
              "    <tr>\n",
              "      <th>118562</th>\n",
              "      <td>12633.0</td>\n",
              "      <td>16633.984375</td>\n",
              "    </tr>\n",
              "    <tr>\n",
              "      <th>125903</th>\n",
              "      <td>7140.0</td>\n",
              "      <td>6124.952148</td>\n",
              "    </tr>\n",
              "  </tbody>\n",
              "</table>\n",
              "</div>\n",
              "      <button class=\"colab-df-convert\" onclick=\"convertToInteractive('df-9aeaabf3-0c3b-41bb-9d0f-ac4a5d7b83f1')\"\n",
              "              title=\"Convert this dataframe to an interactive table.\"\n",
              "              style=\"display:none;\">\n",
              "        \n",
              "  <svg xmlns=\"http://www.w3.org/2000/svg\" height=\"24px\"viewBox=\"0 0 24 24\"\n",
              "       width=\"24px\">\n",
              "    <path d=\"M0 0h24v24H0V0z\" fill=\"none\"/>\n",
              "    <path d=\"M18.56 5.44l.94 2.06.94-2.06 2.06-.94-2.06-.94-.94-2.06-.94 2.06-2.06.94zm-11 1L8.5 8.5l.94-2.06 2.06-.94-2.06-.94L8.5 2.5l-.94 2.06-2.06.94zm10 10l.94 2.06.94-2.06 2.06-.94-2.06-.94-.94-2.06-.94 2.06-2.06.94z\"/><path d=\"M17.41 7.96l-1.37-1.37c-.4-.4-.92-.59-1.43-.59-.52 0-1.04.2-1.43.59L10.3 9.45l-7.72 7.72c-.78.78-.78 2.05 0 2.83L4 21.41c.39.39.9.59 1.41.59.51 0 1.02-.2 1.41-.59l7.78-7.78 2.81-2.81c.8-.78.8-2.07 0-2.86zM5.41 20L4 18.59l7.72-7.72 1.47 1.35L5.41 20z\"/>\n",
              "  </svg>\n",
              "      </button>\n",
              "      \n",
              "  <style>\n",
              "    .colab-df-container {\n",
              "      display:flex;\n",
              "      flex-wrap:wrap;\n",
              "      gap: 12px;\n",
              "    }\n",
              "\n",
              "    .colab-df-convert {\n",
              "      background-color: #E8F0FE;\n",
              "      border: none;\n",
              "      border-radius: 50%;\n",
              "      cursor: pointer;\n",
              "      display: none;\n",
              "      fill: #1967D2;\n",
              "      height: 32px;\n",
              "      padding: 0 0 0 0;\n",
              "      width: 32px;\n",
              "    }\n",
              "\n",
              "    .colab-df-convert:hover {\n",
              "      background-color: #E2EBFA;\n",
              "      box-shadow: 0px 1px 2px rgba(60, 64, 67, 0.3), 0px 1px 3px 1px rgba(60, 64, 67, 0.15);\n",
              "      fill: #174EA6;\n",
              "    }\n",
              "\n",
              "    [theme=dark] .colab-df-convert {\n",
              "      background-color: #3B4455;\n",
              "      fill: #D2E3FC;\n",
              "    }\n",
              "\n",
              "    [theme=dark] .colab-df-convert:hover {\n",
              "      background-color: #434B5C;\n",
              "      box-shadow: 0px 1px 3px 1px rgba(0, 0, 0, 0.15);\n",
              "      filter: drop-shadow(0px 1px 2px rgba(0, 0, 0, 0.3));\n",
              "      fill: #FFFFFF;\n",
              "    }\n",
              "  </style>\n",
              "\n",
              "      <script>\n",
              "        const buttonEl =\n",
              "          document.querySelector('#df-9aeaabf3-0c3b-41bb-9d0f-ac4a5d7b83f1 button.colab-df-convert');\n",
              "        buttonEl.style.display =\n",
              "          google.colab.kernel.accessAllowed ? 'block' : 'none';\n",
              "\n",
              "        async function convertToInteractive(key) {\n",
              "          const element = document.querySelector('#df-9aeaabf3-0c3b-41bb-9d0f-ac4a5d7b83f1');\n",
              "          const dataTable =\n",
              "            await google.colab.kernel.invokeFunction('convertToInteractive',\n",
              "                                                     [key], {});\n",
              "          if (!dataTable) return;\n",
              "\n",
              "          const docLinkHtml = 'Like what you see? Visit the ' +\n",
              "            '<a target=\"_blank\" href=https://colab.research.google.com/notebooks/data_table.ipynb>data table notebook</a>'\n",
              "            + ' to learn more about interactive tables.';\n",
              "          element.innerHTML = '';\n",
              "          dataTable['output_type'] = 'display_data';\n",
              "          await google.colab.output.renderOutput(dataTable, element);\n",
              "          const docLink = document.createElement('div');\n",
              "          docLink.innerHTML = docLinkHtml;\n",
              "          element.appendChild(docLink);\n",
              "        }\n",
              "      </script>\n",
              "    </div>\n",
              "  </div>\n",
              "  "
            ],
            "text/plain": [
              "              0             0\n",
              "50328    5309.0   6163.640137\n",
              "10626    5941.0   5198.945801\n",
              "122597     13.0     65.145035\n",
              "10964   12007.0  12904.424805\n",
              "70646    4253.0  13073.716797\n",
              "118562  12633.0  16633.984375\n",
              "125903   7140.0   6124.952148"
            ]
          },
          "metadata": {},
          "execution_count": 30
        }
      ]
    },
    {
      "cell_type": "code",
      "source": [
        "compared.columns = ['test','predict']"
      ],
      "metadata": {
        "id": "ccgeikuQBOsn"
      },
      "execution_count": 31,
      "outputs": []
    },
    {
      "cell_type": "code",
      "source": [
        "import seaborn as sns\n",
        "\n",
        "sns.scatterplot(data= compared, x=\"test\", y=\"predict\")"
      ],
      "metadata": {
        "colab": {
          "base_uri": "https://localhost:8080/",
          "height": 296
        },
        "id": "tiFZlkWaBRRy",
        "outputId": "d220bf3d-5a42-4875-fe81-76985cc1b8ec"
      },
      "execution_count": 32,
      "outputs": [
        {
          "output_type": "execute_result",
          "data": {
            "text/plain": [
              "<matplotlib.axes._subplots.AxesSubplot at 0x7f76ee5ccd50>"
            ]
          },
          "metadata": {},
          "execution_count": 32
        },
        {
          "output_type": "display_data",
          "data": {
            "image/png": "[encoded data removed]",
            "text/plain": [
              "<Figure size 432x288 with 1 Axes>"
            ]
          },
          "metadata": {
            "needs_background": "light"
          }
        }
      ]
    },
    {
      "cell_type": "markdown",
      "source": [
        "By Muhammad Hanan Asghar"
      ],
      "metadata": {
        "id": "5j6GDh6ZLwdd"
      }
    }
  ]
}